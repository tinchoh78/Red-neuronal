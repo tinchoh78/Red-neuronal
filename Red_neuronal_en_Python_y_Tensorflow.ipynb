{
  "nbformat": 4,
  "nbformat_minor": 0,
  "metadata": {
    "colab": {
      "provenance": [],
      "authorship_tag": "ABX9TyPXuLnmOlq5MG4OS2pDYcck",
      "include_colab_link": true
    },
    "kernelspec": {
      "name": "python3",
      "display_name": "Python 3"
    },
    "language_info": {
      "name": "python"
    }
  },
  "cells": [
    {
      "cell_type": "markdown",
      "metadata": {
        "id": "view-in-github",
        "colab_type": "text"
      },
      "source": [
        "<a href=\"https://colab.research.google.com/github/tinchoh78/Red-neuronal/blob/main/Red_neuronal_en_Python_y_Tensorflow.ipynb\" target=\"_parent\"><img src=\"https://colab.research.google.com/assets/colab-badge.svg\" alt=\"Open In Colab\"/></a>"
      ]
    },
    {
      "cell_type": "code",
      "execution_count": 1,
      "metadata": {
        "id": "v8RUBQbrVUWJ"
      },
      "outputs": [],
      "source": [
        "import tensorflow as tf # Lib para IA hecha por google\n",
        "import numpy as np # Para trabajar fácilmente con array numéricos"
      ]
    },
    {
      "cell_type": "code",
      "source": [
        "celsius = np.array([-40, -10, 0, 8, 15, 22, 38], dtype=float) # Array que usará la red para aprender\n",
        "fahrenheit = np.array([-40, 14, 32, 46, 59, 72, 100], dtype=float) # Para aprender"
      ],
      "metadata": {
        "id": "3fLc06oiWNQ_"
      },
      "execution_count": 2,
      "outputs": []
    },
    {
      "cell_type": "code",
      "source": [
        "# Diseñemos nuestro modelo de red neuronal\n",
        "# Framework Keras nos permite hacer las redes neuronales de manera simple\n",
        "# podemos especificar por separados las capas de salida y entrada o puedo especificar solo la de salida\n",
        "# creamos una variable capa del tipo densa (tienen conexiones desde c/neurona asia todas las neuronas de la sgte capa)\n",
        "capa = tf.keras.layers.Dense(units=1, input_shape=[1]) # Al registrar indicamos unidades o neuronas de la capa de salida y con input_shape=1 le decimos que hay 1 entrada con 1 neurona\n",
        "# modelo de keras para darle las capas y trabajar con el\n",
        "modelo = tf.keras.Sequential([capa]) # Sequential para redes neuronales no avanzadas"
      ],
      "metadata": {
        "colab": {
          "base_uri": "https://localhost:8080/"
        },
        "id": "954rOH7DX39f",
        "outputId": "6131b99d-8594-4449-bf79-034c4399d0c0"
      },
      "execution_count": 3,
      "outputs": [
        {
          "output_type": "stream",
          "name": "stderr",
          "text": [
            "/usr/local/lib/python3.10/dist-packages/keras/src/layers/core/dense.py:87: UserWarning: Do not pass an `input_shape`/`input_dim` argument to a layer. When using Sequential models, prefer using an `Input(shape)` object as the first layer in the model instead.\n",
            "  super().__init__(activity_regularizer=activity_regularizer, **kwargs)\n"
          ]
        }
      ]
    },
    {
      "cell_type": "code",
      "source": [
        "# Decimos algunas propiedades para que prosece las matemáticas para aprender mejor\n",
        "modelo.compile(\n",
        "    # 1ª propiedad: optimizer\n",
        "    optimizer = tf.keras.optimizers.Adam(0.1),\n",
        "    # Adam permite ajustar los pesos y sesgos de manera eficiente para aprender y no, desaprender. Taza de aprendizaje 0.1\n",
        "    # 2ª ppropiedad\n",
        "    loss = 'mean_squared_error' # Error cuadrático medio (poca cantidad de errores grandes es peor que gran cant de errores pequeños)\n",
        ")"
      ],
      "metadata": {
        "id": "G5T0_d-leX59"
      },
      "execution_count": 8,
      "outputs": []
    },
    {
      "cell_type": "code",
      "source": [
        "# A entrenarlo\n",
        "print(\"Comenzando entrenamiento...\")\n",
        "# Indicamos los datos de in y los resultados esperados y decimos cuantas vueltas tiene que intentar\n",
        "historial = modelo.fit(celsius, fahrenheit, epochs=1000, verbose=False) # verbose para no imprimir de más cosas\n",
        "print(\"Modelo entrenado!\")"
      ],
      "metadata": {
        "colab": {
          "base_uri": "https://localhost:8080/"
        },
        "id": "Sz3Jq3LchDOF",
        "outputId": "92b0af6a-3db4-42d0-ec6e-bb85e8cdd63d"
      },
      "execution_count": 9,
      "outputs": [
        {
          "output_type": "stream",
          "name": "stdout",
          "text": [
            "Comenzando entrenamiento...\n",
            "Modelo entrenado!\n"
          ]
        }
      ]
    },
    {
      "cell_type": "code",
      "source": [
        "# Vemos resultado de func de pérdida nos dice que tan mal están los resultados en c/vuelta que dió\n",
        "import matplotlib.pyplot as plt\n",
        "plt.xlabel(\"# Epoca\")\n",
        "plt.ylabel(\"Magnitud de pérdida\")\n",
        "plt.plot(historial.history[\"loss\"])\n",
        "# vemos que con 500 o 600 vueltas casi no hay pérdida, no mejora mucho"
      ],
      "metadata": {
        "colab": {
          "base_uri": "https://localhost:8080/",
          "height": 466
        },
        "id": "MHBGvDhwkMAl",
        "outputId": "9161e25d-7bc7-4609-99be-4c7fefc81b7b"
      },
      "execution_count": 10,
      "outputs": [
        {
          "output_type": "execute_result",
          "data": {
            "text/plain": [
              "[<matplotlib.lines.Line2D at 0x7dd2fae395d0>]"
            ]
          },
          "metadata": {},
          "execution_count": 10
        },
        {
          "output_type": "display_data",
          "data": {
            "text/plain": [
              "<Figure size 640x480 with 1 Axes>"
            ],
            "image/png": "[encoded data removed]"
          },
          "metadata": {}
        }
      ]
    },
    {
      "cell_type": "code",
      "source": [
        "print(\"Hagamos predicción 100ºC que no están en el array\")\n",
        "resultado = modelo.predict(np.array([100.0]))\n",
        "print(\"El resultado es \" + str(resultado) + \"ºF\")"
      ],
      "metadata": {
        "colab": {
          "base_uri": "https://localhost:8080/"
        },
        "id": "QWVq93annfDF",
        "outputId": "a9c7a57e-d064-40a2-d8ac-e77a36754dc7"
      },
      "execution_count": 18,
      "outputs": [
        {
          "output_type": "stream",
          "name": "stdout",
          "text": [
            "Hagamos predicción 100ºC que no están en el array\n",
            "\u001b[1m1/1\u001b[0m \u001b[32m━━━━━━━━━━━━━━━━━━━━\u001b[0m\u001b[37m\u001b[0m \u001b[1m0s\u001b[0m 52ms/step\n",
            "El resultado es [[211.74406]]ºF\n"
          ]
        }
      ]
    }
  ]
}